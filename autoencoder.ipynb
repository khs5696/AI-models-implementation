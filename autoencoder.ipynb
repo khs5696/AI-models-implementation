{
  "nbformat": 4,
  "nbformat_minor": 0,
  "metadata": {
    "colab": {
      "provenance": [],
      "gpuType": "T4",
      "authorship_tag": "ABX9TyM5tPysPWjg1DZnGhPSomhk",
      "include_colab_link": true
    },
    "kernelspec": {
      "name": "python3",
      "display_name": "Python 3"
    },
    "language_info": {
      "name": "python"
    },
    "accelerator": "GPU"
  },
  "cells": [
    {
      "cell_type": "markdown",
      "metadata": {
        "id": "view-in-github",
        "colab_type": "text"
      },
      "source": [
        "<a href=\"https://colab.research.google.com/github/khs5696/AI504/blob/main/autoencoder.ipynb\" target=\"_parent\"><img src=\"https://colab.research.google.com/assets/colab-badge.svg\" alt=\"Open In Colab\"/></a>"
      ]
    },
    {
      "cell_type": "code",
      "execution_count": 11,
      "metadata": {
        "id": "ca4Z98HBeWjd"
      },
      "outputs": [],
      "source": [
        "import copy\n",
        "import torch\n",
        "import torchvision\n",
        "import torch.nn as nn\n",
        "from torchvision import datasets, transforms\n",
        "from torch.utils.data import DataLoader"
      ]
    },
    {
      "cell_type": "code",
      "source": [
        "batch_size = 256\n",
        "learning_rate = 0.0002\n",
        "num_epochs = 10"
      ],
      "metadata": {
        "id": "DVX-DSYFjgFo"
      },
      "execution_count": 3,
      "outputs": []
    },
    {
      "cell_type": "code",
      "source": [
        "# Prepare Dataset\n",
        "train = datasets.MNIST(\"./\", train=True, transform=transforms.ToTensor(), target_transform=None, download=True)\n",
        "test = datasets.MNIST(\"./\", train=False, transform=transforms.ToTensor(), target_transform=None, download=True)\n",
        "train, val = torch.utils.data.random_split(train, [50000, 10000])\n",
        "\n",
        "train_dataloader = DataLoader(train, batch_size = batch_size, shuffle = True) # ((1 x 28 x 28), 1)\n",
        "val_dataloader = DataLoader(val, batch_size = batch_size, shuffle = True)\n",
        "test_dataloader = DataLoader(test, batch_size = batch_size, shuffle = True)"
      ],
      "metadata": {
        "id": "_3ri8xJgeZ-8",
        "colab": {
          "base_uri": "https://localhost:8080/"
        },
        "outputId": "a59d32c6-6492-4f81-f302-d06ee0b82e78"
      },
      "execution_count": 4,
      "outputs": [
        {
          "output_type": "stream",
          "name": "stdout",
          "text": [
            "Downloading http://yann.lecun.com/exdb/mnist/train-images-idx3-ubyte.gz\n",
            "Downloading http://yann.lecun.com/exdb/mnist/train-images-idx3-ubyte.gz to ./MNIST/raw/train-images-idx3-ubyte.gz\n"
          ]
        },
        {
          "output_type": "stream",
          "name": "stderr",
          "text": [
            "100%|██████████| 9912422/9912422 [00:00<00:00, 82776280.39it/s]\n"
          ]
        },
        {
          "output_type": "stream",
          "name": "stdout",
          "text": [
            "Extracting ./MNIST/raw/train-images-idx3-ubyte.gz to ./MNIST/raw\n",
            "\n",
            "Downloading http://yann.lecun.com/exdb/mnist/train-labels-idx1-ubyte.gz\n",
            "Downloading http://yann.lecun.com/exdb/mnist/train-labels-idx1-ubyte.gz to ./MNIST/raw/train-labels-idx1-ubyte.gz\n"
          ]
        },
        {
          "output_type": "stream",
          "name": "stderr",
          "text": [
            "100%|██████████| 28881/28881 [00:00<00:00, 97063857.23it/s]"
          ]
        },
        {
          "output_type": "stream",
          "name": "stdout",
          "text": [
            "Extracting ./MNIST/raw/train-labels-idx1-ubyte.gz to ./MNIST/raw\n",
            "\n",
            "Downloading http://yann.lecun.com/exdb/mnist/t10k-images-idx3-ubyte.gz\n"
          ]
        },
        {
          "output_type": "stream",
          "name": "stderr",
          "text": [
            "\n"
          ]
        },
        {
          "output_type": "stream",
          "name": "stdout",
          "text": [
            "Downloading http://yann.lecun.com/exdb/mnist/t10k-images-idx3-ubyte.gz to ./MNIST/raw/t10k-images-idx3-ubyte.gz\n"
          ]
        },
        {
          "output_type": "stream",
          "name": "stderr",
          "text": [
            "100%|██████████| 1648877/1648877 [00:00<00:00, 92415198.73it/s]"
          ]
        },
        {
          "output_type": "stream",
          "name": "stdout",
          "text": [
            "Extracting ./MNIST/raw/t10k-images-idx3-ubyte.gz to ./MNIST/raw\n",
            "\n",
            "Downloading http://yann.lecun.com/exdb/mnist/t10k-labels-idx1-ubyte.gz\n"
          ]
        },
        {
          "output_type": "stream",
          "name": "stderr",
          "text": [
            "\n"
          ]
        },
        {
          "output_type": "stream",
          "name": "stdout",
          "text": [
            "Downloading http://yann.lecun.com/exdb/mnist/t10k-labels-idx1-ubyte.gz to ./MNIST/raw/t10k-labels-idx1-ubyte.gz\n"
          ]
        },
        {
          "output_type": "stream",
          "name": "stderr",
          "text": [
            "100%|██████████| 4542/4542 [00:00<00:00, 15071620.86it/s]"
          ]
        },
        {
          "output_type": "stream",
          "name": "stdout",
          "text": [
            "Extracting ./MNIST/raw/t10k-labels-idx1-ubyte.gz to ./MNIST/raw\n",
            "\n"
          ]
        },
        {
          "output_type": "stream",
          "name": "stderr",
          "text": [
            "\n"
          ]
        }
      ]
    },
    {
      "cell_type": "code",
      "source": [
        "# Implement model\n",
        "class Autoencoder(nn.Module):\n",
        "    def __init__(self):\n",
        "        super().__init__()\n",
        "        self.encoder = nn.Sequential(\n",
        "            nn.Linear(784, 100),\n",
        "            nn.ReLU(),                          # activation function\n",
        "            nn.Linear(100, 30),\n",
        "            nn.ReLU()                           # activation function\n",
        "        )\n",
        "\n",
        "        self.decoder = nn.Sequential(\n",
        "            nn.Linear(30, 100),\n",
        "            nn.ReLU(),                          # activation function\n",
        "            nn.Linear(100, 784),\n",
        "            nn.ReLU()                           # activation function\n",
        "        )\n",
        "\n",
        "\n",
        "    def forward(self, x):                       # x: (batch_size, 1, 28, 28)\n",
        "        batch_size = x.size(0)\n",
        "        x = torch.reshape(x, (batch_size, 784))      # reshape to 784(28*28)-dimensional vector\n",
        "        encoded = self.encoder(x)                    # hidden vector\n",
        "        decoded = self.decoder(encoded)\n",
        "        out = torch.reshape(decoded, (batch_size, 1, 28, 28))    # final output. resize to input's size\n",
        "        return out, encoded\n"
      ],
      "metadata": {
        "id": "HvdtBsM9gYtX"
      },
      "execution_count": 5,
      "outputs": []
    },
    {
      "cell_type": "code",
      "source": [
        "# Train\n",
        "device = torch.device(\"cuda:0\" if torch.cuda.is_available() else \"cpu\")\n",
        "model = Autoencoder().to(device)\n",
        "optimizer = torch.optim.Adam(model.parameters(), lr = learning_rate)\n",
        "\n",
        "def train(epochs, optimizer):\n",
        "  best_model_wts = copy.deepcopy(model.state_dict())\n",
        "  best_val_loss = 100000000\n",
        "\n",
        "  for epoch in range(epochs):\n",
        "    print('Epoch {}/{}'.format(epoch, epochs - 1))\n",
        "    print('-' * 10)\n",
        "\n",
        "    train_loss = 0\n",
        "    val_loss = 0\n",
        "\n",
        "    ##### Training #####\n",
        "    for input, label in train_dataloader:\n",
        "      input = input.to(device)\n",
        "      optimizer.zero_grad()\n",
        "      output, encoded = model(input)\n",
        "      loss = nn.MSELoss()(input, output)\n",
        "      loss.backward()                       # Calculate gradient\n",
        "      optimizer.step()                      # Gradient descent\n",
        "\n",
        "      train_loss += loss.item() * input.size(0)\n",
        "\n",
        "    epoch_loss = train_loss / len(train_dataloader.dataset)\n",
        "    print('Train Loss: {:.4f}'.format(epoch_loss))\n",
        "\n",
        "    ##### Validation #####\n",
        "    for input, label in val_dataloader:\n",
        "      input = input.to(device)\n",
        "      optimizer.zero_grad()\n",
        "      output, encoded = model(input)\n",
        "      loss = nn.MSELoss()(input, output)\n",
        "      loss.backward()                       # Calculate gradient\n",
        "      optimizer.step()                      # Gradient descent\n",
        "\n",
        "      val_loss += loss.item() * input.size(0)\n",
        "\n",
        "    epoch_loss = val_loss / len(val_dataloader.dataset)\n",
        "    print('Val Loss: {:.4f}'.format(epoch_loss))\n",
        "\n",
        "    if best_val_loss > epoch_loss:\n",
        "      best_val_loss = epoch_loss\n",
        "      best_model_wts = copy.deepcopy(model.state_dict())\n",
        "\n",
        "    ##########\n",
        "  model.load_state_dict(best_model_wts)\n",
        "  print('Best val Loss: {:4f}'.format(best_val_loss))\n",
        "\n",
        "  return model\n",
        "\n",
        "best_model = train(num_epochs, optimizer)"
      ],
      "metadata": {
        "id": "vvly1w4GjmOp",
        "colab": {
          "base_uri": "https://localhost:8080/"
        },
        "outputId": "fd3de57f-4a1e-4ca8-a65a-a43e09798872"
      },
      "execution_count": 15,
      "outputs": [
        {
          "output_type": "stream",
          "name": "stdout",
          "text": [
            "Epoch 0/9\n",
            "----------\n",
            "Train Loss: 0.0756\n",
            "Val Loss: 0.0511\n",
            "Epoch 1/9\n",
            "----------\n",
            "Train Loss: 0.0409\n",
            "Val Loss: 0.0353\n",
            "Epoch 2/9\n",
            "----------\n",
            "Train Loss: 0.0326\n",
            "Val Loss: 0.0302\n",
            "Epoch 3/9\n",
            "----------\n",
            "Train Loss: 0.0290\n",
            "Val Loss: 0.0279\n",
            "Epoch 4/9\n",
            "----------\n",
            "Train Loss: 0.0273\n",
            "Val Loss: 0.0266\n",
            "Epoch 5/9\n",
            "----------\n",
            "Train Loss: 0.0263\n",
            "Val Loss: 0.0258\n",
            "Epoch 6/9\n",
            "----------\n",
            "Train Loss: 0.0255\n",
            "Val Loss: 0.0252\n",
            "Epoch 7/9\n",
            "----------\n",
            "Train Loss: 0.0250\n",
            "Val Loss: 0.0247\n",
            "Epoch 8/9\n",
            "----------\n",
            "Train Loss: 0.0246\n",
            "Val Loss: 0.0243\n",
            "Epoch 9/9\n",
            "----------\n",
            "Train Loss: 0.0242\n",
            "Val Loss: 0.0240\n",
            "Best val Loss: 0.024007\n"
          ]
        }
      ]
    },
    {
      "cell_type": "code",
      "source": [
        "model.eval()\n",
        "with torch.no_grad():\n",
        "  test_loss = 0\n",
        "  for input, label in test_dataloader:\n",
        "    input = input.to(device)\n",
        "    output, encoded = best_model(input)\n",
        "    loss = nn.MSELoss()(input, output)\n",
        "\n",
        "    test_loss += loss.item() * input.size(0)\n",
        "\n",
        "  test_loss = test_loss / len(test_dataloader.dataset)\n",
        "  print(test_loss)"
      ],
      "metadata": {
        "colab": {
          "base_uri": "https://localhost:8080/"
        },
        "id": "BzAzy_ab4ETY",
        "outputId": "b605c717-6a03-4386-cd0b-5e3095a392c8"
      },
      "execution_count": 16,
      "outputs": [
        {
          "output_type": "stream",
          "name": "stdout",
          "text": [
            "0.023893095311522485\n"
          ]
        }
      ]
    },
    {
      "cell_type": "code",
      "source": [
        "import matplotlib.pyplot as plt\n",
        "\n",
        "out_img = torch.squeeze(output.cpu().data)\n",
        "print(out_img.size())\n",
        "\n",
        "for i in range(5):\n",
        "    plt.subplot(1,2,1)\n",
        "    plt.imshow(torch.squeeze(input[i]).cpu().numpy(),cmap='gray')\n",
        "    plt.subplot(1,2,2)\n",
        "    plt.imshow(out_img[i].numpy(),cmap='gray')\n",
        "    plt.show()"
      ],
      "metadata": {
        "colab": {
          "base_uri": "https://localhost:8080/",
          "height": 1000
        },
        "id": "eFpPeESr5s1P",
        "outputId": "0293552c-1692-48c2-e5d4-472713cec6b0"
      },
      "execution_count": 17,
      "outputs": [
        {
          "output_type": "stream",
          "name": "stdout",
          "text": [
            "torch.Size([16, 28, 28])\n"
          ]
        },
        {
          "output_type": "display_data",
          "data": {
            "text/plain": [
              "<Figure size 640x480 with 2 Axes>"
            ],
            "image/png": "[encoded data removed]"
          },
          "metadata": {}
        },
        {
          "output_type": "display_data",
          "data": {
            "text/plain": [
              "<Figure size 640x480 with 2 Axes>"
            ],
            "image/png": "[encoded data removed]"
          },
          "metadata": {}
        },
        {
          "output_type": "display_data",
          "data": {
            "text/plain": [
              "<Figure size 640x480 with 2 Axes>"
            ],
            "image/png": "[encoded data removed]"
          },
          "metadata": {}
        },
        {
          "output_type": "display_data",
          "data": {
            "text/plain": [
              "<Figure size 640x480 with 2 Axes>"
            ],
            "image/png": "[encoded data removed]"
          },
          "metadata": {}
        },
        {
          "output_type": "display_data",
          "data": {
            "text/plain": [
              "<Figure size 640x480 with 2 Axes>"
            ],
            "image/png": "[encoded data removed]"
          },
          "metadata": {}
        }
      ]
    }
  ]
}