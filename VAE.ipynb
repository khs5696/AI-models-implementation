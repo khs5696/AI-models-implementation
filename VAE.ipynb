{
  "nbformat": 4,
  "nbformat_minor": 0,
  "metadata": {
    "colab": {
      "provenance": [],
      "gpuType": "T4",
      "authorship_tag": "ABX9TyNOvLL2UAM0AZEhX894aiDH",
      "include_colab_link": true
    },
    "kernelspec": {
      "name": "python3",
      "display_name": "Python 3"
    },
    "language_info": {
      "name": "python"
    },
    "accelerator": "GPU"
  },
  "cells": [
    {
      "cell_type": "markdown",
      "metadata": {
        "id": "view-in-github",
        "colab_type": "text"
      },
      "source": [
        "<a href=\"https://colab.research.google.com/github/khs5696/AI504/blob/main/VAE.ipynb\" target=\"_parent\"><img src=\"https://colab.research.google.com/assets/colab-badge.svg\" alt=\"Open In Colab\"/></a>"
      ]
    },
    {
      "cell_type": "code",
      "execution_count": 1,
      "metadata": {
        "id": "CCtj4zyawh9L"
      },
      "outputs": [],
      "source": [
        "import torch\n",
        "import copy\n",
        "import torch.nn as nn\n",
        "import torchvision.datasets as datasets\n",
        "import torchvision.transforms as transforms\n",
        "import matplotlib.pyplot as plt\n",
        "from torch.utils.data import DataLoader\n",
        "from IPython.display import Image"
      ]
    },
    {
      "cell_type": "markdown",
      "source": [
        "Hyperparameter"
      ],
      "metadata": {
        "id": "MFAjlXKzqN14"
      }
    },
    {
      "cell_type": "code",
      "source": [
        "batch_size = 100\n",
        "learning_rate = 1e-3\n",
        "epochs = 15"
      ],
      "metadata": {
        "id": "pjguJ_pjyCbH"
      },
      "execution_count": 2,
      "outputs": []
    },
    {
      "cell_type": "markdown",
      "source": [
        "Dataset"
      ],
      "metadata": {
        "id": "tQ7PopjtqQBi"
      }
    },
    {
      "cell_type": "code",
      "source": [
        "train = datasets.MNIST(root='./', train=True, transform=transforms.ToTensor(), target_transform=None, download=True)\n",
        "test = datasets.MNIST(root='./', train=False, transform=transforms.ToTensor(), target_transform=None, download=True)\n",
        "train, valid = torch.utils.data.random_split(train, [50000, 10000])\n",
        "\n",
        "train_dataloader = DataLoader(train, batch_size=batch_size, shuffle=True)\n",
        "valid_dataloader = DataLoader(valid, batch_size=batch_size, shuffle=False)\n",
        "test_dataloader = DataLoader(test, batch_size=batch_size, shuffle=False)"
      ],
      "metadata": {
        "id": "EjYaK81Jwm34"
      },
      "execution_count": 3,
      "outputs": []
    },
    {
      "cell_type": "markdown",
      "source": [
        "Model"
      ],
      "metadata": {
        "id": "FlaR5PPoqR-R"
      }
    },
    {
      "cell_type": "code",
      "source": [
        "# https://lilianweng.github.io/lil-log/2018/08/12/from-autoencoder-to-beta-vae.html\n",
        "# !wget -q https://www.dropbox.com/s/lmpjzzkqhk7d408/vae_gaussian.png\n",
        "# Image(\"vae_gaussian.png\")"
      ],
      "metadata": {
        "id": "5IplOhkFy4Li"
      },
      "execution_count": 4,
      "outputs": []
    },
    {
      "cell_type": "code",
      "source": [
        "class VAE(nn.Module):\n",
        "  def __init__(self):\n",
        "    super(VAE, self).__init__()\n",
        "    # Probabilistic encoder\n",
        "    self.encoder = nn.Sequential(\n",
        "        nn.Linear(28*28, 256),\n",
        "        nn.Tanh(),\n",
        "    )\n",
        "\n",
        "    self.fc_mu = nn.Linear(256, 10)\n",
        "    self.fc_var = nn.Linear(256, 10)\n",
        "\n",
        "    # Probabilistic decoder\n",
        "    self.decoder = nn.Sequential(\n",
        "        nn.Linear(10, 256),\n",
        "        nn.Tanh(),\n",
        "        nn.Linear(256, 28*28),\n",
        "        nn.Sigmoid()\n",
        "    )\n",
        "\n",
        "  def encode(self, x):\n",
        "    h = self.encoder(x)\n",
        "    mu = self.fc_mu(h)\n",
        "    var = self.fc_var(h)\n",
        "    return mu, var\n",
        "\n",
        "  def reparameterize(self, mu, var):\n",
        "    std = torch.exp(0.5*var)\n",
        "    eps = torch.randn_like(std)\n",
        "    return mu + eps*std\n",
        "\n",
        "  def forward(self, x):\n",
        "    # batch_size = x.size(0)\n",
        "    mu, var = self.encode(x.reshape(batch_size, -1))\n",
        "    latent = self.reparameterize(mu, var)\n",
        "    output = self.decoder(latent)\n",
        "    return output, mu, var"
      ],
      "metadata": {
        "id": "GJI0SHbszRZ_"
      },
      "execution_count": 5,
      "outputs": []
    },
    {
      "cell_type": "markdown",
      "source": [
        "Train"
      ],
      "metadata": {
        "id": "uiBk3V7VqX_K"
      }
    },
    {
      "cell_type": "code",
      "source": [
        "device = torch.device(\"cuda:0\" if torch.cuda.is_available() else \"cpu\")\n",
        "\n",
        "model = VAE().to(device)\n",
        "optimizer = torch.optim.Adam(model.parameters(), lr=learning_rate)\n",
        "BCE = torch.nn.BCELoss(reduction='sum')   # Binary Cross Entropy\n",
        "def loss_func(x, recon_x, mu, log_var):\n",
        "    BCE_loss = BCE(recon_x, x.view(-1, 784))\n",
        "    KLD_loss = -0.5 * torch.sum(1 + log_var - mu.pow(2) - log_var.exp())\n",
        "    return BCE_loss + KLD_loss"
      ],
      "metadata": {
        "id": "eM1O6LAVBtCr"
      },
      "execution_count": 6,
      "outputs": []
    },
    {
      "cell_type": "code",
      "source": [
        "def train(model, criterion, epochs):\n",
        "  best_model_wts = copy.deepcopy(model.state_dict())\n",
        "  best_val_loss = 100000000\n",
        "\n",
        "  train_history = []\n",
        "  test_history = []\n",
        "\n",
        "  for epoch in range(epochs):\n",
        "    print(\"-\"*10)\n",
        "    print(\"Epoch {}/{}\".format(epoch+1, epochs))\n",
        "    # Train\n",
        "    train_loss = 0.0\n",
        "    model.train()\n",
        "    for data, label in train_dataloader:\n",
        "      data = data.to(device)    # (batch_size, 1, 28, 28)\n",
        "      with torch.set_grad_enabled(True):\n",
        "        output, mu, var = model(data) # (batch_size, 784)\n",
        "        optimizer.zero_grad()\n",
        "        loss = criterion(data, output, mu, var)\n",
        "        loss.backward()\n",
        "        optimizer.step()\n",
        "      train_loss += loss.item()\n",
        "    epoch_loss = train_loss / len(train_dataloader.dataset)\n",
        "    train_history.append(epoch_loss)\n",
        "    print('Train Loss: {:.4f}'.format(epoch_loss))\n",
        "\n",
        "    # Validation\n",
        "    val_loss = 0.0\n",
        "    model.eval()\n",
        "    for data, label in valid_dataloader:\n",
        "      data = data.to(device)\n",
        "      with torch.set_grad_enabled(False):\n",
        "        output, mu, var = model(data)\n",
        "        loss = criterion(data, output, mu, var)\n",
        "        val_loss += loss.item()\n",
        "    epoch_loss = val_loss / len(valid_dataloader.dataset)\n",
        "    test_history.append(epoch_loss)\n",
        "    print('Valid Loss: {:.4f}'.format(epoch_loss))\n",
        "\n",
        "    if epoch_loss < best_val_loss:\n",
        "        best_val_loss = epoch_loss\n",
        "        best_model_wts = copy.deepcopy(model.state_dict())\n",
        "\n",
        "  # load best model weights\n",
        "  print('Best val Loss: {:4f}'.format(best_val_loss))\n",
        "  model.load_state_dict(best_model_wts)\n",
        "  return model, train_history, test_history\n",
        "\n",
        "best_model, train_history, test_history = train(model, loss_func, epochs=epochs)"
      ],
      "metadata": {
        "colab": {
          "base_uri": "https://localhost:8080/"
        },
        "id": "C08lWX4P_-ho",
        "outputId": "c6293cbb-2afe-47c5-aab3-c69c33ff69f4"
      },
      "execution_count": 7,
      "outputs": [
        {
          "output_type": "stream",
          "name": "stdout",
          "text": [
            "----------\n",
            "Epoch 1/15\n",
            "Train Loss: 170.5802\n",
            "Valid Loss: 141.0561\n",
            "----------\n",
            "Epoch 2/15\n",
            "Train Loss: 136.4912\n",
            "Valid Loss: 132.1938\n",
            "----------\n",
            "Epoch 3/15\n",
            "Train Loss: 129.6862\n",
            "Valid Loss: 127.0063\n",
            "----------\n",
            "Epoch 4/15\n",
            "Train Loss: 125.3484\n",
            "Valid Loss: 123.5517\n",
            "----------\n",
            "Epoch 5/15\n",
            "Train Loss: 122.3135\n",
            "Valid Loss: 120.9128\n",
            "----------\n",
            "Epoch 6/15\n",
            "Train Loss: 120.1057\n",
            "Valid Loss: 119.3828\n",
            "----------\n",
            "Epoch 7/15\n",
            "Train Loss: 118.3891\n",
            "Valid Loss: 117.5721\n",
            "----------\n",
            "Epoch 8/15\n",
            "Train Loss: 116.9876\n",
            "Valid Loss: 116.4217\n",
            "----------\n",
            "Epoch 9/15\n",
            "Train Loss: 115.8086\n",
            "Valid Loss: 115.5542\n",
            "----------\n",
            "Epoch 10/15\n",
            "Train Loss: 114.9369\n",
            "Valid Loss: 114.7220\n",
            "----------\n",
            "Epoch 11/15\n",
            "Train Loss: 114.2048\n",
            "Valid Loss: 114.2687\n",
            "----------\n",
            "Epoch 12/15\n",
            "Train Loss: 113.5387\n",
            "Valid Loss: 113.4616\n",
            "----------\n",
            "Epoch 13/15\n",
            "Train Loss: 112.9224\n",
            "Valid Loss: 113.4371\n",
            "----------\n",
            "Epoch 14/15\n",
            "Train Loss: 112.4461\n",
            "Valid Loss: 112.9680\n",
            "----------\n",
            "Epoch 15/15\n",
            "Train Loss: 112.0046\n",
            "Valid Loss: 112.3059\n",
            "Best val Loss: 112.305903\n"
          ]
        }
      ]
    },
    {
      "cell_type": "code",
      "source": [
        "# Let's draw a learning curve like below.\n",
        "plt.plot(train_history, label='train')\n",
        "plt.plot(test_history, label='val')\n",
        "plt.xlabel('epoch')\n",
        "plt.ylabel('loss')\n",
        "plt.legend()\n",
        "plt.show()"
      ],
      "metadata": {
        "colab": {
          "base_uri": "https://localhost:8080/",
          "height": 449
        },
        "id": "V_TbfV_htAm_",
        "outputId": "13312bb2-de93-4021-acf1-07ff25255391"
      },
      "execution_count": 8,
      "outputs": [
        {
          "output_type": "display_data",
          "data": {
            "text/plain": [
              "<Figure size 640x480 with 1 Axes>"
            ],
            "image/png": "[encoded data removed]"
          },
          "metadata": {}
        }
      ]
    },
    {
      "cell_type": "markdown",
      "source": [
        "Test"
      ],
      "metadata": {
        "id": "MD_PActyrNOm"
      }
    },
    {
      "cell_type": "code",
      "source": [
        "best_model.eval()\n",
        "with torch.no_grad():\n",
        "  running_loss = 0\n",
        "  for input, label in test_dataloader:\n",
        "    input = input.to(device)\n",
        "    output, mu, var = best_model(input)\n",
        "    loss = loss_func(input, output, mu, var)\n",
        "    running_loss += loss.item()\n",
        "\n",
        "  test_loss = running_loss / len(test_dataloader.dataset)\n",
        "  print(test_loss)"
      ],
      "metadata": {
        "id": "5IYMgbjpBRlA",
        "colab": {
          "base_uri": "https://localhost:8080/"
        },
        "outputId": "f488ae9b-557f-488a-eec2-992863d607b1"
      },
      "execution_count": 9,
      "outputs": [
        {
          "output_type": "stream",
          "name": "stdout",
          "text": [
            "111.50179521484375\n"
          ]
        }
      ]
    },
    {
      "cell_type": "code",
      "source": [
        "out_img = torch.squeeze(output.cpu().data)\n",
        "print(out_img.size())\n",
        "\n",
        "for i in range(5):\n",
        "    plt.subplot(1,2,1)\n",
        "    plt.imshow(torch.squeeze(input[i]).cpu().numpy(),cmap='gray')\n",
        "    plt.subplot(1,2,2)\n",
        "    plt.imshow(out_img[i].numpy().reshape(28, 28),cmap='gray')\n",
        "    plt.show()"
      ],
      "metadata": {
        "id": "rzTcec3Ry5s1",
        "colab": {
          "base_uri": "https://localhost:8080/",
          "height": 1000
        },
        "outputId": "39b98a31-9af2-4b49-c27a-8904eb144d36"
      },
      "execution_count": 10,
      "outputs": [
        {
          "output_type": "stream",
          "name": "stdout",
          "text": [
            "torch.Size([100, 784])\n"
          ]
        },
        {
          "output_type": "display_data",
          "data": {
            "text/plain": [
              "<Figure size 640x480 with 2 Axes>"
            ],
            "image/png": "[encoded data removed]"
          },
          "metadata": {}
        },
        {
          "output_type": "display_data",
          "data": {
            "text/plain": [
              "<Figure size 640x480 with 2 Axes>"
            ],
            "image/png": "[encoded data removed]"
          },
          "metadata": {}
        },
        {
          "output_type": "display_data",
          "data": {
            "text/plain": [
              "<Figure size 640x480 with 2 Axes>"
            ],
            "image/png": "[encoded data removed]"
          },
          "metadata": {}
        },
        {
          "output_type": "display_data",
          "data": {
            "text/plain": [
              "<Figure size 640x480 with 2 Axes>"
            ],
            "image/png": "[encoded data removed]"
          },
          "metadata": {}
        },
        {
          "output_type": "display_data",
          "data": {
            "text/plain": [
              "<Figure size 640x480 with 2 Axes>"
            ],
            "image/png": "[encoded data removed]"
          },
          "metadata": {}
        }
      ]
    }
  ]
}